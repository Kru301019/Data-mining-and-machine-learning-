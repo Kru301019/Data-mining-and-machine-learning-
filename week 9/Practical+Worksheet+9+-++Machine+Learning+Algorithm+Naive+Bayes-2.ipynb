{
 "cells": [
  {
   "cell_type": "markdown",
   "metadata": {
    "id": "YnXBDzvBmT0-"
   },
   "source": [
    "<h3 style=\"color:#C0C0C0;text-align:center;font-size: smaller;\">Applied Machine Learning and Data Mining - U26538</h3>\n",
    "\n",
    "<br>\n",
    "<h1 style=\"color:#800080;text-align:center;\"> Practical Worksheet (9)</h1>\n",
    "<h2 style=\"color:#800080;text-align:center;\">Machine Learning Algorithm: Naïve Bayes</h2>"
   ]
  },
  {
   "cell_type": "markdown",
   "metadata": {
    "id": "WtxcmEQGmT1F"
   },
   "source": [
    "<h3 b> Introduction </h3>\n",
    "\n",
    "In the following practical worksheet, you will learn how to build a Naïve Bayes Classifier model and visualize the results. If you have any questions please ask for assistance during the session and you can also email me if you have any further questions <u> alaa.mohasseb@port.ac.uk</u>."
   ]
  },
  {
   "cell_type": "markdown",
   "metadata": {
    "id": "dKwj-xpTmT1G"
   },
   "source": [
    "<u>Dataset</u>\n",
    "\n",
    "In this practical exercise, we will be using the Social Network Ad dataset, the dataset has 400 instances and the following attributes: User ID, Gender, Age, Estimated Salary and Purchased. The first Four attributes which are User ID, Gender, Age, and Estimated Salary are predictor attributes and the last attribute which is Purchased is the target attribute. https://www.kaggle.com/rakeshrau/social-network-ads"
   ]
  },
  {
   "cell_type": "markdown",
   "metadata": {
    "id": "v6ChPe7_mT1H"
   },
   "source": [
    "<u>Import the Libraries</u>\n",
    "\n",
    "In a new Jupyter Notebook (practWeek9), load the NumPy, pandas and matplotlib libraries:"
   ]
  },
  {
   "cell_type": "code",
   "execution_count": null,
   "metadata": {
    "collapsed": true,
    "id": "fpTLC_kHmT1J"
   },
   "outputs": [],
   "source": [
    "import numpy as np\n",
    "import pandas as pd\n",
    "import matplotlib.pyplot as plt\n",
    "%matplotlib inline\n",
    "#this will make your plot outputs appear and be stored within the notebook"
   ]
  },
  {
   "cell_type": "markdown",
   "metadata": {
    "id": "-V0J6yucmT1L"
   },
   "source": [
    "<u>Read External Data</u> (Social Network Ad Dataset)\n",
    "<ul>\n",
    "<li>Download the dataset from your moodle page.</li>\n",
    "<li>Upload the dataset to your Jupyter dashboard.</li>\n",
    "<li>To read an external data (csv file) use the following command:</li>\n",
    "</ul>"
   ]
  },
  {
   "cell_type": "code",
   "execution_count": null,
   "metadata": {
    "collapsed": true,
    "id": "vGodZXIzmT1M"
   },
   "outputs": [],
   "source": [
    "SNA = pd.read_csv(\"Social_Network_Ads.csv\")"
   ]
  },
  {
   "cell_type": "code",
   "execution_count": null,
   "metadata": {
    "id": "f0JWYF3mmT1N",
    "outputId": "e7c8a215-4052-47cb-cb32-ad85070cd943"
   },
   "outputs": [
    {
     "data": {
      "text/html": [
       "<div>\n",
       "<style>\n",
       "    .dataframe thead tr:only-child th {\n",
       "        text-align: right;\n",
       "    }\n",
       "\n",
       "    .dataframe thead th {\n",
       "        text-align: left;\n",
       "    }\n",
       "\n",
       "    .dataframe tbody tr th {\n",
       "        vertical-align: top;\n",
       "    }\n",
       "</style>\n",
       "<table border=\"1\" class=\"dataframe\">\n",
       "  <thead>\n",
       "    <tr style=\"text-align: right;\">\n",
       "      <th></th>\n",
       "      <th>User ID</th>\n",
       "      <th>Gender</th>\n",
       "      <th>Age</th>\n",
       "      <th>EstimatedSalary</th>\n",
       "      <th>Purchased</th>\n",
       "    </tr>\n",
       "  </thead>\n",
       "  <tbody>\n",
       "    <tr>\n",
       "      <th>0</th>\n",
       "      <td>15624510</td>\n",
       "      <td>Male</td>\n",
       "      <td>19</td>\n",
       "      <td>19000</td>\n",
       "      <td>0</td>\n",
       "    </tr>\n",
       "    <tr>\n",
       "      <th>1</th>\n",
       "      <td>15810944</td>\n",
       "      <td>Male</td>\n",
       "      <td>35</td>\n",
       "      <td>20000</td>\n",
       "      <td>0</td>\n",
       "    </tr>\n",
       "    <tr>\n",
       "      <th>2</th>\n",
       "      <td>15668575</td>\n",
       "      <td>Female</td>\n",
       "      <td>26</td>\n",
       "      <td>43000</td>\n",
       "      <td>0</td>\n",
       "    </tr>\n",
       "    <tr>\n",
       "      <th>3</th>\n",
       "      <td>15603246</td>\n",
       "      <td>Female</td>\n",
       "      <td>27</td>\n",
       "      <td>57000</td>\n",
       "      <td>0</td>\n",
       "    </tr>\n",
       "    <tr>\n",
       "      <th>4</th>\n",
       "      <td>15804002</td>\n",
       "      <td>Male</td>\n",
       "      <td>19</td>\n",
       "      <td>76000</td>\n",
       "      <td>0</td>\n",
       "    </tr>\n",
       "  </tbody>\n",
       "</table>\n",
       "</div>"
      ],
      "text/plain": [
       "    User ID  Gender  Age  EstimatedSalary  Purchased\n",
       "0  15624510    Male   19            19000          0\n",
       "1  15810944    Male   35            20000          0\n",
       "2  15668575  Female   26            43000          0\n",
       "3  15603246  Female   27            57000          0\n",
       "4  15804002    Male   19            76000          0"
      ]
     },
     "execution_count": 29,
     "metadata": {},
     "output_type": "execute_result"
    }
   ],
   "source": [
    "SNA.head()"
   ]
  },
  {
   "cell_type": "markdown",
   "metadata": {
    "id": "ywBsIxR4mT1P"
   },
   "source": [
    "<u>Define the predictor and target attribute</u>\n",
    "\n",
    "We will use the Age and Estimated Salary as our Predictor attributes which we call <code>\"x\"</code> and Purchased is the target attribute which we call <code>\"y\"</code>.\n"
   ]
  },
  {
   "cell_type": "code",
   "execution_count": null,
   "metadata": {
    "collapsed": true,
    "id": "8tt7Wuf9mT1Q"
   },
   "outputs": [],
   "source": [
    "x = SNA.iloc[:,[2, 3]].values    # predictor attribute\n",
    "y = SNA.iloc[:,4].values        # target attribute"
   ]
  },
  {
   "cell_type": "markdown",
   "metadata": {
    "id": "_Lhp_AcZmT1R"
   },
   "source": [
    "<u>Data understanding and Exploration</u>\n",
    "\n",
    "To understand the dataset, analysis should be done and some information needs to be explored such as:\n",
    "\n",
    "- The Attributes\n",
    "\n",
    "- Data Shape\n",
    "\n",
    "- Data Description\n",
    "\n",
    "- Data Information\n",
    "\n",
    "- Data Dimensionality"
   ]
  },
  {
   "cell_type": "code",
   "execution_count": null,
   "metadata": {
    "id": "cNaFyC8mmT1R",
    "outputId": "07a3658e-0582-4059-a367-599c370f5fa0"
   },
   "outputs": [
    {
     "data": {
      "text/plain": [
       "Index([u'User ID', u'Gender', u'Age', u'EstimatedSalary', u'Purchased'], dtype='object')"
      ]
     },
     "execution_count": 4,
     "metadata": {},
     "output_type": "execute_result"
    }
   ],
   "source": [
    "SNA.keys() #Print the attributes"
   ]
  },
  {
   "cell_type": "code",
   "execution_count": null,
   "metadata": {
    "id": "KLCybFbMmT1S",
    "outputId": "3e492e57-eb6e-4291-d0fe-ffadead34b93"
   },
   "outputs": [
    {
     "data": {
      "text/plain": [
       "(400, 5)"
      ]
     },
     "execution_count": 30,
     "metadata": {},
     "output_type": "execute_result"
    }
   ],
   "source": [
    "SNA.shape #data shape"
   ]
  },
  {
   "cell_type": "code",
   "execution_count": null,
   "metadata": {
    "id": "o4Fdj9-ImT1T",
    "outputId": "64b86c3a-582e-478a-dcad-229e693a4088"
   },
   "outputs": [
    {
     "data": {
      "text/html": [
       "<div>\n",
       "<style>\n",
       "    .dataframe thead tr:only-child th {\n",
       "        text-align: right;\n",
       "    }\n",
       "\n",
       "    .dataframe thead th {\n",
       "        text-align: left;\n",
       "    }\n",
       "\n",
       "    .dataframe tbody tr th {\n",
       "        vertical-align: top;\n",
       "    }\n",
       "</style>\n",
       "<table border=\"1\" class=\"dataframe\">\n",
       "  <thead>\n",
       "    <tr style=\"text-align: right;\">\n",
       "      <th></th>\n",
       "      <th>User ID</th>\n",
       "      <th>Age</th>\n",
       "      <th>EstimatedSalary</th>\n",
       "      <th>Purchased</th>\n",
       "    </tr>\n",
       "  </thead>\n",
       "  <tbody>\n",
       "    <tr>\n",
       "      <th>count</th>\n",
       "      <td>4.000000e+02</td>\n",
       "      <td>400.000000</td>\n",
       "      <td>400.000000</td>\n",
       "      <td>400.000000</td>\n",
       "    </tr>\n",
       "    <tr>\n",
       "      <th>mean</th>\n",
       "      <td>1.569154e+07</td>\n",
       "      <td>37.655000</td>\n",
       "      <td>69742.500000</td>\n",
       "      <td>0.357500</td>\n",
       "    </tr>\n",
       "    <tr>\n",
       "      <th>std</th>\n",
       "      <td>7.165832e+04</td>\n",
       "      <td>10.482877</td>\n",
       "      <td>34096.960282</td>\n",
       "      <td>0.479864</td>\n",
       "    </tr>\n",
       "    <tr>\n",
       "      <th>min</th>\n",
       "      <td>1.556669e+07</td>\n",
       "      <td>18.000000</td>\n",
       "      <td>15000.000000</td>\n",
       "      <td>0.000000</td>\n",
       "    </tr>\n",
       "    <tr>\n",
       "      <th>25%</th>\n",
       "      <td>1.562676e+07</td>\n",
       "      <td>29.750000</td>\n",
       "      <td>43000.000000</td>\n",
       "      <td>0.000000</td>\n",
       "    </tr>\n",
       "    <tr>\n",
       "      <th>50%</th>\n",
       "      <td>1.569434e+07</td>\n",
       "      <td>37.000000</td>\n",
       "      <td>70000.000000</td>\n",
       "      <td>0.000000</td>\n",
       "    </tr>\n",
       "    <tr>\n",
       "      <th>75%</th>\n",
       "      <td>1.575036e+07</td>\n",
       "      <td>46.000000</td>\n",
       "      <td>88000.000000</td>\n",
       "      <td>1.000000</td>\n",
       "    </tr>\n",
       "    <tr>\n",
       "      <th>max</th>\n",
       "      <td>1.581524e+07</td>\n",
       "      <td>60.000000</td>\n",
       "      <td>150000.000000</td>\n",
       "      <td>1.000000</td>\n",
       "    </tr>\n",
       "  </tbody>\n",
       "</table>\n",
       "</div>"
      ],
      "text/plain": [
       "            User ID         Age  EstimatedSalary   Purchased\n",
       "count  4.000000e+02  400.000000       400.000000  400.000000\n",
       "mean   1.569154e+07   37.655000     69742.500000    0.357500\n",
       "std    7.165832e+04   10.482877     34096.960282    0.479864\n",
       "min    1.556669e+07   18.000000     15000.000000    0.000000\n",
       "25%    1.562676e+07   29.750000     43000.000000    0.000000\n",
       "50%    1.569434e+07   37.000000     70000.000000    0.000000\n",
       "75%    1.575036e+07   46.000000     88000.000000    1.000000\n",
       "max    1.581524e+07   60.000000    150000.000000    1.000000"
      ]
     },
     "execution_count": 6,
     "metadata": {},
     "output_type": "execute_result"
    }
   ],
   "source": [
    "SNA.describe() #Data description"
   ]
  },
  {
   "cell_type": "code",
   "execution_count": null,
   "metadata": {
    "id": "SWbO9k9EmT1U",
    "outputId": "e3ff5d57-9445-4258-9d29-5d99079ca332"
   },
   "outputs": [
    {
     "data": {
      "text/plain": [
       "User ID             int64\n",
       "Gender             object\n",
       "Age                 int64\n",
       "EstimatedSalary     int64\n",
       "Purchased           int64\n",
       "dtype: object"
      ]
     },
     "execution_count": 8,
     "metadata": {},
     "output_type": "execute_result"
    }
   ],
   "source": [
    "SNA.dtypes #Data Type"
   ]
  },
  {
   "cell_type": "code",
   "execution_count": null,
   "metadata": {},
   "outputs": [],
   "source": []
  },
  {
   "cell_type": "raw",
   "metadata": {
    "id": "nB575VaGmT1V",
    "outputId": "3fc6c44e-b82c-44ad-bbb3-db9f39e49dc4"
   },
   "source": [
    "SNA['Purchased'].value_counts() #Print  Number of instances in the target (class) attribute"
   ]
  },
  {
   "cell_type": "code",
   "execution_count": null,
   "metadata": {
    "id": "FrEBIafZmT1V",
    "outputId": "c0194446-0cd6-4ada-8cd1-19eca18299c0"
   },
   "outputs": [
    {
     "name": "stdout",
     "output_type": "stream",
     "text": [
      "<class 'pandas.core.frame.DataFrame'>\n",
      "RangeIndex: 400 entries, 0 to 399\n",
      "Data columns (total 5 columns):\n",
      "User ID            400 non-null int64\n",
      "Gender             400 non-null object\n",
      "Age                400 non-null int64\n",
      "EstimatedSalary    400 non-null int64\n",
      "Purchased          400 non-null int64\n",
      "dtypes: int64(4), object(1)\n",
      "memory usage: 15.7+ KB\n"
     ]
    }
   ],
   "source": [
    "SNA.info() #Display data Information"
   ]
  },
  {
   "cell_type": "code",
   "execution_count": null,
   "metadata": {
    "id": "XzOMgagOmT1X",
    "outputId": "074d8968-6b81-44d5-f8f2-789c9ab7f53b"
   },
   "outputs": [
    {
     "data": {
      "text/plain": [
       "2"
      ]
     },
     "execution_count": 11,
     "metadata": {},
     "output_type": "execute_result"
    }
   ],
   "source": [
    "SNA.ndim #Display Data Dimensionality"
   ]
  },
  {
   "cell_type": "markdown",
   "metadata": {
    "id": "BbhKZDWYmT1X"
   },
   "source": [
    "<u>Build a machine learning Model</u>\n",
    "\n",
    "In the following sections, you will learn:\n",
    "\n",
    "- How to train/test the data\n",
    "- Feature scaling\n",
    "- Build a machine learning model\n",
    "- Visualize the results\n",
    "- Evalute the results using confusion matrix,  accuracy and cross vaidation."
   ]
  },
  {
   "cell_type": "markdown",
   "metadata": {
    "id": "N83sVzrVmT1Y"
   },
   "source": [
    "<u>Train/Test the data </u>\n",
    "\n",
    "The dataset will be split into a test set and a train set. A 75% dataset is split for training and the remaining 25% for tests.\n",
    "\n",
    "<b>Note:</b> <code>random_state=0</code>\n",
    "\n",
    "\n",
    "- If you don't include the random_state in the code, then whenever you execute your code a new random value is generated and the train and test datasets would have different values each time.\n",
    "\n",
    "- However, if you use a particular value for random_state(random_state = 0 or any other value) everytime the result will be the same, i.e, same values in train and test datasets."
   ]
  },
  {
   "cell_type": "code",
   "execution_count": null,
   "metadata": {
    "collapsed": true,
    "id": "iCB67gR4mT1Y"
   },
   "outputs": [],
   "source": [
    "# split the dataset into test set and train set\n",
    "from sklearn.model_selection import train_test_split\n",
    "x_train, x_test, y_train, y_test =train_test_split(x,y, test_size=0.25, random_state=0)"
   ]
  },
  {
   "cell_type": "markdown",
   "metadata": {
    "id": "0dVN8F97mT1Z"
   },
   "source": [
    "<u>Feature Scaling</u>\n",
    "\n",
    "Since some attributes in the dataset (age and estimated salary) contains information in Numeric value, and some value is very high and some are very low, this will cause some issues when building the model, to solve that problem all values must be set on the same scale. There are two methods to solve that problem:\n",
    "\n",
    "- Normalization\n",
    "- Standard Scaler\n",
    "\n",
    "In this pracatical Standard Scaler will be used"
   ]
  },
  {
   "cell_type": "code",
   "execution_count": 1,
   "metadata": {
    "id": "k1mWXr-9mT1Z",
    "outputId": "6c64edcf-f483-4f70-9603-67a1fb977eff"
   },
   "outputs": [
    {
     "ename": "NameError",
     "evalue": "name 'x_train' is not defined",
     "output_type": "error",
     "traceback": [
      "\u001b[1;31m---------------------------------------------------------------------------\u001b[0m",
      "\u001b[1;31mNameError\u001b[0m                                 Traceback (most recent call last)",
      "Cell \u001b[1;32mIn[1], line 4\u001b[0m\n\u001b[0;32m      2\u001b[0m \u001b[38;5;28;01mfrom\u001b[39;00m \u001b[38;5;21;01msklearn\u001b[39;00m\u001b[38;5;21;01m.\u001b[39;00m\u001b[38;5;21;01mpreprocessing\u001b[39;00m \u001b[38;5;28;01mimport\u001b[39;00m StandardScaler\n\u001b[0;32m      3\u001b[0m sc \u001b[38;5;241m=\u001b[39m StandardScaler()\n\u001b[1;32m----> 4\u001b[0m x_train \u001b[38;5;241m=\u001b[39m sc\u001b[38;5;241m.\u001b[39mfit_transform(x_train)\n\u001b[0;32m      5\u001b[0m x_test  \u001b[38;5;241m=\u001b[39m sc\u001b[38;5;241m.\u001b[39mfit_transform(x_test)\n",
      "\u001b[1;31mNameError\u001b[0m: name 'x_train' is not defined"
     ]
    }
   ],
   "source": [
    "# feature scaling\n",
    "from sklearn.preprocessing import StandardScaler\n",
    "sc = StandardScaler()\n",
    "x_train = sc.fit_transform(x_train)\n",
    "x_test  = sc.fit_transform(x_test)"
   ]
  },
  {
   "cell_type": "markdown",
   "metadata": {
    "id": "-E1vLiPDmT1a"
   },
   "source": [
    "<u>Build the Machine learning Model</u>\n",
    "\n",
    "Naïve Bayes Classifier will be imporetd using Scikit Learn Library."
   ]
  },
  {
   "cell_type": "code",
   "execution_count": null,
   "metadata": {
    "collapsed": true,
    "id": "gvFZ4Z69mT1a"
   },
   "outputs": [],
   "source": [
    "# import Naive Bayes classifier model from scikit learn\n",
    "from sklearn.naive_bayes import GaussianNB"
   ]
  },
  {
   "cell_type": "markdown",
   "metadata": {
    "id": "U1Pa6qZqmT1b"
   },
   "source": [
    "<u>Initialize our Naïve Bayes model</u>\n",
    "\n",
    "In this step, Naïve Bayes model will be initialized. Gaussian Naive Bayes algorithm will be used."
   ]
  },
  {
   "cell_type": "code",
   "execution_count": null,
   "metadata": {
    "collapsed": true,
    "id": "fVsh0aOimT1b"
   },
   "outputs": [],
   "source": [
    "# initialize the Naive Bayes Model\n",
    "classifier = GaussianNB()"
   ]
  },
  {
   "cell_type": "markdown",
   "metadata": {
    "id": "8ctWIzWJmT1b"
   },
   "source": [
    "<u>Fitting the Naïve Bayes Model</u>\n",
    "\n",
    "In this step, the training data will be fitted into the model x_train, y_train is the training data."
   ]
  },
  {
   "cell_type": "code",
   "execution_count": null,
   "metadata": {
    "id": "viHulfjomT1b",
    "outputId": "5d309299-60f2-40ed-be4b-6b5fa8ec34fd"
   },
   "outputs": [
    {
     "data": {
      "text/plain": [
       "GaussianNB(priors=None)"
      ]
     },
     "execution_count": 16,
     "metadata": {},
     "output_type": "execute_result"
    }
   ],
   "source": [
    "#fit the Naive Bayes Model\n",
    "classifier.fit(x_train,y_train)"
   ]
  },
  {
   "cell_type": "markdown",
   "metadata": {
    "id": "BcB6B7fnmT1c"
   },
   "source": [
    "<u>Model Predicttion</u>"
   ]
  },
  {
   "cell_type": "code",
   "execution_count": null,
   "metadata": {
    "id": "d9O-wYrdmT1c",
    "outputId": "c00e6fa8-49e3-4e72-9cfb-9b627fc89a42"
   },
   "outputs": [
    {
     "data": {
      "text/plain": [
       "array([0, 0, 0, 0, 0, 0, 0, 1, 0, 1, 0, 0, 0, 0, 0, 1, 0, 0, 1, 0, 0, 1, 0,\n",
       "       1, 0, 1, 0, 0, 0, 0, 0, 0, 1, 0, 0, 0, 0, 0, 0, 1, 0, 0, 0, 0, 1, 0,\n",
       "       0, 1, 0, 1, 1, 0, 0, 1, 1, 0, 0, 0, 1, 0, 0, 1, 0, 0, 0, 1, 0, 0, 0,\n",
       "       0, 1, 0, 0, 1, 0, 0, 0, 0, 1, 1, 1, 1, 0, 0, 1, 0, 0, 1, 1, 0, 0, 1,\n",
       "       0, 0, 0, 0, 0, 1, 1, 1])"
      ]
     },
     "execution_count": 17,
     "metadata": {},
     "output_type": "execute_result"
    }
   ],
   "source": [
    "#result\n",
    "y_pred=classifier.predict(x_test)\n",
    "y_pred"
   ]
  },
  {
   "cell_type": "markdown",
   "metadata": {
    "id": "WeSeZCpJmT1c"
   },
   "source": [
    "<u>Confusion Matrix</u>\n",
    "\n",
    "In this step, confusion metric will be used to display the result, to do that confusion matrix will be imported from sklearn.metrics then two parameters will be passed first is the <code> y_test </code> which is the actual test set result and second is <code>y_pred</code> which is the predicted result."
   ]
  },
  {
   "cell_type": "code",
   "execution_count": null,
   "metadata": {
    "id": "NCJVJ440mT1d",
    "outputId": "5142d960-f527-4bb6-ad07-ef033915be33"
   },
   "outputs": [
    {
     "data": {
      "text/plain": [
       "array([[64,  4],\n",
       "       [ 5, 27]])"
      ]
     },
     "execution_count": 18,
     "metadata": {},
     "output_type": "execute_result"
    }
   ],
   "source": [
    "# print the Confusion Matrix\n",
    "from sklearn.metrics import confusion_matrix\n",
    "cm=confusion_matrix(y_test, y_pred)\n",
    "cm"
   ]
  },
  {
   "cell_type": "markdown",
   "metadata": {
    "id": "6KUIJ0mjmT1d"
   },
   "source": [
    "<u>Print the Confusion Matrix using a heatmap visualization</u>"
   ]
  },
  {
   "cell_type": "code",
   "execution_count": null,
   "metadata": {
    "id": "M4pKdJ8fmT1d",
    "outputId": "dd62a00f-96ab-4917-af82-b4c42409bd71"
   },
   "outputs": [
    {
     "data": {
      "text/plain": [
       "<matplotlib.axes._subplots.AxesSubplot at 0x7feb4e799a50>"
      ]
     },
     "execution_count": 19,
     "metadata": {},
     "output_type": "execute_result"
    },
    {
     "data": {
      "image/png": "[encoded data removed]",
      "text/plain": [
       "<Figure size 576x396 with 2 Axes>"
      ]
     },
     "metadata": {},
     "output_type": "display_data"
    }
   ],
   "source": [
    "import seaborn as sns\n",
    "sns.heatmap(cm, annot=True)"
   ]
  },
  {
   "cell_type": "markdown",
   "metadata": {
    "id": "y5C56W6zmT1e"
   },
   "source": [
    "<u>Print confusion Matrix as DataFrame</u>"
   ]
  },
  {
   "cell_type": "code",
   "execution_count": null,
   "metadata": {
    "id": "dG1FJ9nYmT1e",
    "outputId": "1f288e1e-4898-407d-fdee-35b150940ff9"
   },
   "outputs": [
    {
     "data": {
      "text/html": [
       "<div>\n",
       "<style>\n",
       "    .dataframe thead tr:only-child th {\n",
       "        text-align: right;\n",
       "    }\n",
       "\n",
       "    .dataframe thead th {\n",
       "        text-align: left;\n",
       "    }\n",
       "\n",
       "    .dataframe tbody tr th {\n",
       "        vertical-align: top;\n",
       "    }\n",
       "</style>\n",
       "<table border=\"1\" class=\"dataframe\">\n",
       "  <thead>\n",
       "    <tr style=\"text-align: right;\">\n",
       "      <th></th>\n",
       "      <th>0</th>\n",
       "      <th>1</th>\n",
       "    </tr>\n",
       "  </thead>\n",
       "  <tbody>\n",
       "    <tr>\n",
       "      <th>0</th>\n",
       "      <td>64</td>\n",
       "      <td>4</td>\n",
       "    </tr>\n",
       "    <tr>\n",
       "      <th>1</th>\n",
       "      <td>5</td>\n",
       "      <td>27</td>\n",
       "    </tr>\n",
       "  </tbody>\n",
       "</table>\n",
       "</div>"
      ],
      "text/plain": [
       "    0   1\n",
       "0  64   4\n",
       "1   5  27"
      ]
     },
     "execution_count": 20,
     "metadata": {},
     "output_type": "execute_result"
    }
   ],
   "source": [
    "from sklearn.metrics import confusion_matrix\n",
    "unique_label = np.unique([y_test, y_pred])\n",
    "cm=confusion_matrix(y_test, y_pred, labels=unique_label )\n",
    "pd.DataFrame(cm,  columns=unique_label)"
   ]
  },
  {
   "cell_type": "markdown",
   "metadata": {
    "id": "8fMvCU8OmT1f"
   },
   "source": [
    "<u>Print the full results report</u>\n",
    "\n",
    "In this report:\n",
    "\n",
    "- The precision, recall, f1-score and support will be printed\n",
    "- The columns will show the instances predicted for each label,\n",
    "- The rows will show the actual number of instances for each label."
   ]
  },
  {
   "cell_type": "code",
   "execution_count": null,
   "metadata": {
    "id": "IyR6Fg_GmT1f",
    "outputId": "4901acef-3f9a-4d34-e4f5-5df746d7ae79"
   },
   "outputs": [
    {
     "name": "stdout",
     "output_type": "stream",
     "text": [
      "[[64  4]\n",
      " [ 5 27]]\n",
      "             precision    recall  f1-score   support\n",
      "\n",
      "          0       0.93      0.94      0.93        68\n",
      "          1       0.87      0.84      0.86        32\n",
      "\n",
      "avg / total       0.91      0.91      0.91       100\n",
      "\n"
     ]
    }
   ],
   "source": [
    "from sklearn import metrics\n",
    "print (metrics.confusion_matrix(y_test, y_pred))\n",
    "print (metrics.classification_report(y_test, y_pred))"
   ]
  },
  {
   "cell_type": "markdown",
   "metadata": {
    "id": "EhHq5-lMmT1f"
   },
   "source": [
    "<u> More detailed results report</u>\n",
    "\n",
    "The following report will display more detailed and more metrics"
   ]
  },
  {
   "cell_type": "code",
   "execution_count": null,
   "metadata": {
    "id": "DG2Xg5U9mT1g",
    "outputId": "e37ad216-bba5-4c24-ad15-a791f15e3440"
   },
   "outputs": [
    {
     "name": "stdout",
     "output_type": "stream",
     "text": [
      "[[64  4]\n",
      " [ 5 27]]\n",
      "('Mean Absolute Error:', 0.089999999999999997)\n",
      "('Mean Squared Error:', 0.089999999999999997)\n",
      "('Root Mean Squared Error:', 0.29999999999999999)\n",
      "             precision    recall  f1-score   support\n",
      "\n",
      "          0       0.93      0.94      0.93        68\n",
      "          1       0.87      0.84      0.86        32\n",
      "\n",
      "avg / total       0.91      0.91      0.91       100\n",
      "\n",
      "('Accuracy:', 0.91000000000000003)\n"
     ]
    }
   ],
   "source": [
    "from sklearn import metrics\n",
    "from sklearn.metrics import accuracy_score, confusion_matrix, classification_report\n",
    "print(confusion_matrix(y_test, y_pred))\n",
    "print('Mean Absolute Error:', metrics.mean_absolute_error(y_test, y_pred))\n",
    "print('Mean Squared Error:', metrics.mean_squared_error(y_test, y_pred))\n",
    "print('Root Mean Squared Error:', np.sqrt(metrics.mean_squared_error(y_test, y_pred)))\n",
    "print(classification_report(y_test, y_pred))\n",
    "print(\"Accuracy:\", accuracy_score(y_test, y_pred))"
   ]
  },
  {
   "cell_type": "markdown",
   "metadata": {
    "id": "6T_T3MvSmT1h"
   },
   "source": [
    "<u> Accuracy Score</u>\n",
    "\n",
    "In this step, the accuracy is calculated  based on the actual test results and the predicted test results."
   ]
  },
  {
   "cell_type": "code",
   "execution_count": null,
   "metadata": {
    "id": "VLa5Z7sRmT1h",
    "outputId": "585d1a41-408e-4182-d9b5-9de03cf34c03"
   },
   "outputs": [
    {
     "data": {
      "text/plain": [
       "0.91000000000000003"
      ]
     },
     "execution_count": 23,
     "metadata": {},
     "output_type": "execute_result"
    }
   ],
   "source": [
    "from sklearn.metrics import accuracy_score\n",
    "ac=accuracy_score(y_test, y_pred)\n",
    "ac"
   ]
  },
  {
   "cell_type": "markdown",
   "metadata": {
    "id": "tK4IFCcDmT1i"
   },
   "source": [
    "<u>Results Visualization</u>\n",
    "\n",
    "In this step, results is visualized using matplotlib library based on the ae and Estimated Salary.\n",
    "\n",
    "As shown in the graph below, 10 points was classified incorrectlty (red dots in the green area and blue dots in the yellow area)."
   ]
  },
  {
   "cell_type": "code",
   "execution_count": null,
   "metadata": {
    "id": "fmlrlMJ1mT1i",
    "outputId": "c48951fb-c24d-4a9b-9317-4ca5c9ace527"
   },
   "outputs": [
    {
     "data": {
      "image/png": "[encoded data removed]",
      "text/plain": [
       "<Figure size 576x396 with 1 Axes>"
      ]
     },
     "metadata": {},
     "output_type": "display_data"
    }
   ],
   "source": [
    "# Visualising the Test set results\n",
    "from matplotlib.colors import ListedColormap\n",
    "x_set, y_set = x_test, y_test\n",
    "X1, X2 = np.meshgrid(np.arange(start = x_set[:, 0].min() - 1, stop = x_set[:, 0].max() + 1, step = 0.01),\n",
    "                     np.arange(start = x_set[:, 1].min() - 1, stop = x_set[:, 1].max() + 1, step = 0.01))\n",
    "plt.contourf(X1, X2, classifier.predict(np.array([X1.ravel(), X2.ravel()]).T).reshape(X1.shape),\n",
    "             alpha = 0.75, cmap = ListedColormap(('yellow', 'green')))\n",
    "plt.xlim(X1.min(), X1.max())\n",
    "plt.ylim(X2.min(), X2.max())\n",
    "for i, j in enumerate(np.unique(y_set)):\n",
    "    plt.scatter(x_set[y_set == j, 0], x_set[y_set == j, 1],\n",
    "                c = ListedColormap(('red', 'blue'))(i), label = j)\n",
    "plt.title('Naive Bayes Classification Results')\n",
    "plt.xlabel('Age')\n",
    "plt.ylabel('Estimated Salary')\n",
    "plt.legend()\n",
    "plt.show()"
   ]
  },
  {
   "cell_type": "markdown",
   "metadata": {
    "id": "mB4ZNiwsmT1j"
   },
   "source": [
    "<u>Cross-Validation</u>"
   ]
  },
  {
   "cell_type": "code",
   "execution_count": null,
   "metadata": {
    "id": "_AlGjlHWmT1m",
    "outputId": "80b717c6-b56b-458e-ffa1-a73f2b027fb8"
   },
   "outputs": [
    {
     "data": {
      "text/plain": [
       "array([ 0.83870968,  0.9       ,  0.73333333,  0.86666667,  0.83333333,\n",
       "        0.73333333,  0.9       ,  0.96666667,  0.96666667,  1.        ])"
      ]
     },
     "execution_count": 25,
     "metadata": {},
     "output_type": "execute_result"
    }
   ],
   "source": [
    "from sklearn.model_selection import cross_val_score\n",
    "NB=classifier = GaussianNB()\n",
    "scores = cross_val_score(NB, x_train,y_train, cv=10)\n",
    "scores"
   ]
  },
  {
   "cell_type": "code",
   "execution_count": null,
   "metadata": {
    "id": "y6M0otvpmT1n",
    "outputId": "28a38b4e-1a4c-4bc0-b18e-9ed280c2858d"
   },
   "outputs": [
    {
     "name": "stdout",
     "output_type": "stream",
     "text": [
      "Accuracy: 0.87 (+/- 0.18)\n"
     ]
    }
   ],
   "source": [
    "# print the cross validation average\n",
    "print(\"Accuracy: %0.2f (+/- %0.2f)\" % (scores.mean(), scores.std() * 2))"
   ]
  },
  {
   "cell_type": "code",
   "execution_count": null,
   "metadata": {
    "collapsed": true,
    "id": "wh6YC-pjmT1o"
   },
   "outputs": [],
   "source": []
  }
 ],
 "metadata": {
  "colab": {
   "provenance": []
  },
  "kernelspec": {
   "display_name": "Python 3 (ipykernel)",
   "language": "python",
   "name": "python3"
  },
  "language_info": {
   "codemirror_mode": {
    "name": "ipython",
    "version": 3
   },
   "file_extension": ".py",
   "mimetype": "text/x-python",
   "name": "python",
   "nbconvert_exporter": "python",
   "pygments_lexer": "ipython3",
   "version": "3.11.4"
  }
 },
 "nbformat": 4,
 "nbformat_minor": 1
}
