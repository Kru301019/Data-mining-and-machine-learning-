{
 "cells": [
  {
   "cell_type": "markdown",
   "metadata": {},
   "source": [
    "<h3 style=\"color:#C0C0C0;text-align:center;font-size: smaller;\">Applied Machine Learning and Data Mining - U26538</h3>\n",
    "\n",
    "<br>\n",
    "<h1 style=\"color:#800080;text-align:center;\"> Practical Exercise (14)</h1>\n",
    "<h2 style=\"color:#800080;text-align:center;\">Dealing with Class Imbalance</h2>"
   ]
  },
  {
   "cell_type": "markdown",
   "metadata": {},
   "source": [
    "Create a new Juypter notebook called pract14ex.\n",
    "\n",
    "Apply the following using the Social Network Ads Dataset:\n",
    "\n",
    "<li>KNN algorithms with a K value of 3.</li>\n",
    "<li>Naive Bayes algorithm</li>\n",
    "<li>SMOTE and random under sampler using:</li>\n",
    "- KNN algorithms with a K value of 3\n",
    "<br>\n",
    "- Naive Bayes algorithm\n",
    "<li>Compare the performance of the applied techniques in terms of accuracy and confusion matrix before and after handling class imbalance.</li>\n"
   ]
  },
  {
   "cell_type": "code",
   "execution_count": null,
   "metadata": {
    "collapsed": true
   },
   "outputs": [],
   "source": []
  }
 ],
 "metadata": {
  "kernelspec": {
   "display_name": "Python 2",
   "language": "python",
   "name": "python2"
  },
  "language_info": {
   "codemirror_mode": {
    "name": "ipython",
    "version": 2
   },
   "file_extension": ".py",
   "mimetype": "text/x-python",
   "name": "python",
   "nbconvert_exporter": "python",
   "pygments_lexer": "ipython2",
   "version": "2.7.13"
  }
 },
 "nbformat": 4,
 "nbformat_minor": 2
}
