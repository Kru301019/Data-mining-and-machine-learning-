{
 "cells": [
  {
   "cell_type": "markdown",
   "metadata": {},
   "source": [
    "<h1 style=\"color:#800080;text-align:center;\"> Practical Worksheet (1)</h1>\n",
    "<h2 style=\"color:#800080;text-align:center;\"> Getting Started with Jupyter Notebook </h2>"
   ]
  },
  {
   "cell_type": "markdown",
   "metadata": {},
   "source": [
    "<h3 b> Introduction </h3>"
   ]
  },
  {
   "cell_type": "markdown",
   "metadata": {},
   "source": [
    "The aim of this worksheet is to get you started with the Anaconda environment and Jupyter Notebook. It will help you learn how to launch and create a Jupyter Notebook. Explore the list of commands and write some codes.\n",
    "If you have any questions please ask for assistance during the session and you can also email me if you have any further questions <u> alaa.mohasseb@port.ac.uk</u>. "
   ]
  },
  {
   "cell_type": "markdown",
   "metadata": {},
   "source": [
    "<h3> Part 2:</h3>"
   ]
  },
  {
   "cell_type": "markdown",
   "metadata": {},
   "source": [
    "<u>Writing Your First Code</u>\n",
    "\n",
    "The first cell in a new notebook is always a code cell. Let’s test it out with a classic <i> Hello World!</i> example. \n",
    "\n",
    "Type print('Hello World!') into the cell and click the <b>run &#9658;| </b> button in the toolbar above or press (Ctrl + Enter).\n",
    "\n",
    "The result should look like this:\n"
   ]
  },
  {
   "cell_type": "code",
   "execution_count": 1,
   "metadata": {},
   "outputs": [
    {
     "name": "stdout",
     "output_type": "stream",
     "text": [
      "Hello World!\n"
     ]
    }
   ],
   "source": [
    "print('Hello World!')"
   ]
  },
  {
   "cell_type": "markdown",
   "metadata": {},
   "source": [
    "<u>Note:</u> When you run the cell, its output will have been displayed below and the label to its left will have changed from <b>In [ ]</b> to <b>In [number]</b>. "
   ]
  },
  {
   "cell_type": "markdown",
   "metadata": {},
   "source": [
    "<h3>Experimenting with Jupyter the basic python codes</h3>"
   ]
  },
  {
   "cell_type": "markdown",
   "metadata": {},
   "source": [
    "<b> Q1:  Write a function that uses a loop to print “I love Python!” five times.</b>"
   ]
  },
  {
   "cell_type": "markdown",
   "metadata": {},
   "source": [
    "Expected Output:\n",
    "\n",
    "<code>I love Python!\n",
    "I love Python!\n",
    "I love Python!\n",
    "I love Python!\n",
    "I love Python!</code>"
   ]
  },
  {
   "cell_type": "markdown",
   "metadata": {},
   "source": [
    "<b> Q2: Write a function that adds two numbers and print the sum.</b>"
   ]
  },
  {
   "cell_type": "markdown",
   "metadata": {},
   "source": [
    "Expected Output:\n",
    "\n",
    "<code>Enter first number: 2\n",
    "Enter second number: 5\n",
    "The total is: 7</code>"
   ]
  },
  {
   "cell_type": "markdown",
   "metadata": {},
   "source": [
    "<b> Q3: Given a list of numbers, write a function that iterates it and print only those numbers which are divisible by 5.</b>"
   ]
  },
  {
   "cell_type": "markdown",
   "metadata": {},
   "source": [
    "Expected Output:\n",
    "\n",
    "<code>Finding divisible of 5\n",
    "10\n",
    "20\n",
    "55</code>"
   ]
  },
  {
   "cell_type": "markdown",
   "metadata": {},
   "source": [
    "<b> Q4: Write a function that accepts two int values from the user and returns their product. If the product is greater than 1000, then return their sum.</b>"
   ]
  },
  {
   "cell_type": "markdown",
   "metadata": {},
   "source": [
    "Expected Output:\n",
    "\n",
    "<code>Enter first number 10\n",
    "Enter second number 20\n",
    "The result is 200</code>"
   ]
  },
  {
   "cell_type": "markdown",
   "metadata": {},
   "source": [
    "<b> Q5: Write a python code that prints the following pattern.</b>"
   ]
  },
  {
   "cell_type": "markdown",
   "metadata": {},
   "source": [
    "<code>1 \n",
    "2 2 \n",
    "3 3 3 \n",
    "4 4 4 4 \n",
    "5 5 5 5 5</code>"
   ]
  },
  {
   "cell_type": "markdown",
   "metadata": {},
   "source": [
    "<b> Q6: Write a Python program to display the first and last colours from the following list.</b>\n",
    "\n",
    "<i>color_list = [\"Red\",\"Green\",\"White\" ,\"Black\"]</i>"
   ]
  },
  {
   "cell_type": "markdown",
   "metadata": {},
   "source": [
    "Expected Output:\n",
    "\n",
    "<code>Red Black</code>"
   ]
  },
  {
   "cell_type": "markdown",
   "metadata": {},
   "source": [
    "<b> Q7: Write a Python program, to sum up, three given integers. However, if two values are equal the sum will be zero.</b>"
   ]
  },
  {
   "cell_type": "markdown",
   "metadata": {},
   "source": [
    "Expected Output:\n",
    "\n",
    "<code>0\n",
    "0\n",
    "0\n",
    "6\n",
    "</code>"
   ]
  },
  {
   "cell_type": "markdown",
   "metadata": {},
   "source": [
    "<b>Q8: Given a list of numbers, return True if the first and last number of a list is the same</b>"
   ]
  },
  {
   "cell_type": "markdown",
   "metadata": {},
   "source": [
    "Expected Output:\n",
    "\n",
    "<code>Given list is  [10, 20, 30, 40, 10]\n",
    "result is True\n",
    "Given list is  [10, 20, 30, 40, 50]\n",
    "result is False </code>"
   ]
  },
  {
   "cell_type": "markdown",
   "metadata": {},
   "source": [
    "<b> Q9: Print multiplication table from 1 to 10</b>"
   ]
  },
  {
   "cell_type": "markdown",
   "metadata": {},
   "source": [
    "Expected output:\n",
    "\n",
    "<code>1  2 3 4 5 6 7 8 9 10 \t\t\n",
    "2  4 6 8 10 12 14 16 18 20 \t\t\n",
    "3  6 9 12 15 18 21 24 27 30 \t\t\n",
    "4  8 12 16 20 24 28 32 36 40 \t\t\n",
    "5  10 15 20 25 30 35 40 45 50 \t\t\n",
    "6  12 18 24 30 36 42 48 54 60 \t\t\n",
    "7  14 21 28 35 42 49 56 63 70 \t\t\n",
    "8  16 24 32 40 48 56 64 72 80 \t\t\n",
    "9  18 27 36 45 54 63 72 81 90 \t\t\n",
    "10 20 30 40 50 60 70 80 90 100</code>"
   ]
  },
  {
   "cell_type": "markdown",
   "metadata": {},
   "source": [
    "<b>Q10: Display a message “Done” after successful execution of for loop. For example, the following loop will execute without any error.</b>\n",
    "\n",
    "<code> for i in range(5):\n",
    "    print(i) </code>"
   ]
  },
  {
   "cell_type": "markdown",
   "metadata": {},
   "source": [
    "Expected output:\n",
    "\n",
    "<code>0\n",
    "1\n",
    "2\n",
    "3\n",
    "4\n",
    "Done!</code>"
   ]
  }
 ],
 "metadata": {
  "kernelspec": {
   "display_name": "Python 2",
   "language": "python",
   "name": "python2"
  },
  "language_info": {
   "codemirror_mode": {
    "name": "ipython",
    "version": 2
   },
   "file_extension": ".py",
   "mimetype": "text/x-python",
   "name": "python",
   "nbconvert_exporter": "python",
   "pygments_lexer": "ipython2",
   "version": "2.7.13"
  }
 },
 "nbformat": 4,
 "nbformat_minor": 2
}
