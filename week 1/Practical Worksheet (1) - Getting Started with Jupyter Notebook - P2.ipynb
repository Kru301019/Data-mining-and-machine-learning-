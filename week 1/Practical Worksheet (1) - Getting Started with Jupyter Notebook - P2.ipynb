{
 "cells": [
  {
   "cell_type": "code",
   "execution_count": 21,
   "id": "dd0a3ec0",
   "metadata": {},
   "outputs": [
    {
     "name": "stdout",
     "output_type": "stream",
     "text": [
      "hello world\n"
     ]
    }
   ],
   "source": [
    "print('hello world')"
   ]
  },
  {
   "cell_type": "code",
   "execution_count": null,
   "id": "372c252f",
   "metadata": {},
   "outputs": [],
   "source": [
    "for i in range(5):\n",
    "    print('I love python!')"
   ]
  },
  {
   "cell_type": "code",
   "execution_count": 22,
   "id": "e3dbe658",
   "metadata": {},
   "outputs": [
    {
     "name": "stdout",
     "output_type": "stream",
     "text": [
      "sum is: 7\n"
     ]
    }
   ],
   "source": [
    "A = 2\n",
    "B = 5\n",
    "print('sum is:',A+B)"
   ]
  },
  {
   "cell_type": "code",
   "execution_count": 23,
   "id": "f08c0240",
   "metadata": {},
   "outputs": [
    {
     "name": "stdout",
     "output_type": "stream",
     "text": [
      "Finding divisible of 5 are 5\n",
      "Finding divisible of 5 are 10\n",
      "Finding divisible of 5 are 15\n",
      "Finding divisible of 5 are 20\n"
     ]
    }
   ],
   "source": [
    "my_lsit = [1, 2, 5, 10, 12, 15, 20]\n",
    "\n",
    "for i in my_lsit:\n",
    "    if i % 5 == 0:\n",
    "         print('Finding divisible of 5 are',i)"
   ]
  },
  {
   "cell_type": "code",
   "execution_count": 24,
   "id": "43a64e7e",
   "metadata": {},
   "outputs": [
    {
     "name": "stdout",
     "output_type": "stream",
     "text": [
      "100\n"
     ]
    }
   ],
   "source": [
    "def productCal(a, b):\n",
    "    product = a * b\n",
    "    if product >= 1000:\n",
    "        return a+b\n",
    "    return product\n",
    "\n",
    "print(productCal(10, 10))"
   ]
  },
  {
   "cell_type": "code",
   "execution_count": 44,
   "id": "13ab6702",
   "metadata": {
    "scrolled": true
   },
   "outputs": [
    {
     "name": "stdout",
     "output_type": "stream",
     "text": [
      "\n",
      "1 \n",
      "2 2 \n",
      "3 3 3 \n",
      "4 4 4 4 \n",
      "5 5 5 5 5 \n"
     ]
    }
   ],
   "source": [
    "for i in range(6):\n",
    "    for j in range (i): \n",
    "        print(i, end=' ')\n",
    "    print()    \n",
    "       "
   ]
  },
  {
   "cell_type": "code",
   "execution_count": 5,
   "id": "613ea0d2",
   "metadata": {},
   "outputs": [
    {
     "name": "stdout",
     "output_type": "stream",
     "text": [
      "Red Black\n"
     ]
    }
   ],
   "source": [
    "color_list = [\"Red\",\"Green\",\"White\" ,\"Black\"]\n",
    "print(color_list[0],color_list[-1])"
   ]
  },
  {
   "cell_type": "code",
   "execution_count": 6,
   "id": "f637d400",
   "metadata": {},
   "outputs": [
    {
     "name": "stdout",
     "output_type": "stream",
     "text": [
      "Enter the first integer: 5\n",
      "Enter the second integer: 5\n",
      "Enter the third integer: 2\n",
      "The sum is: 0\n"
     ]
    }
   ],
   "source": [
    "# Input three integers\n",
    "a = int(input(\"Enter the first integer: \"))\n",
    "b = int(input(\"Enter the second integer: \"))\n",
    "c = int(input(\"Enter the third integer: \"))\n",
    "\n",
    "# Check if any two of the three integers are equal\n",
    "if a == b or b == c or a == c:\n",
    "    # If any two are equal, set the sum to zero\n",
    "    total_sum = 0\n",
    "else:\n",
    "    # If all three are distinct, calculate the sum\n",
    "    total_sum = a + b + c\n",
    "\n",
    "# Print the result\n",
    "print(\"The sum is:\", total_sum)\n"
   ]
  },
  {
   "cell_type": "code",
   "execution_count": 20,
   "id": "9b3c91b0",
   "metadata": {},
   "outputs": [
    {
     "name": "stdout",
     "output_type": "stream",
     "text": [
      "True\n"
     ]
    }
   ],
   "source": [
    "def TrueFalse(a):\n",
    "        if a[0] == a[-1] :\n",
    "            return True\n",
    "        else:\n",
    "            return False\n",
    "        \n",
    "list_one = [10, 20, 30, 40, 10]\n",
    "list_two = [10, 20, 30, 40, 50]\n",
    "print(TrueFalse(list_one))"
   ]
  },
  {
   "cell_type": "code",
   "execution_count": 66,
   "id": "ba1a3d8a",
   "metadata": {},
   "outputs": [
    {
     "name": "stdout",
     "output_type": "stream",
     "text": [
      "1 2 3 4 5 6 7 8 9 10 \n",
      "2 4 6 8 10 12 14 16 18 20 \n",
      "3 6 9 12 15 18 21 24 27 30 \n",
      "4 8 12 16 20 24 28 32 36 40 \n",
      "5 10 15 20 25 30 35 40 45 50 \n",
      "6 12 18 24 30 36 42 48 54 60 \n",
      "7 14 21 28 35 42 49 56 63 70 \n",
      "8 16 24 32 40 48 56 64 72 80 \n",
      "9 18 27 36 45 54 63 72 81 90 \n",
      "10 20 30 40 50 60 70 80 90 100 \n"
     ]
    }
   ],
   "source": [
    "def One2Ten():\n",
    "    adder = 0\n",
    "    for i in range(1,11):\n",
    "        adder+=1\n",
    "        for j in range (1,11):\n",
    "            print(i, end=\" \")\n",
    "            i+=adder\n",
    "        \n",
    "            \n",
    "        print('')    \n",
    "One2Ten()    \n",
    "\n",
    "def One2Ten_AI():\n",
    "    for i in range(1, 11):\n",
    "        for j in range(1, 11):\n",
    "            result = i * j\n",
    "            print(result, end=\" \")\n",
    "        print('')\n",
    "\n",
    "One2Ten()\n"
   ]
  },
  {
   "cell_type": "code",
   "execution_count": 69,
   "id": "8d506ec4",
   "metadata": {},
   "outputs": [
    {
     "name": "stdout",
     "output_type": "stream",
     "text": [
      "0\n",
      "1\n",
      "2\n",
      "3\n",
      "4\n",
      "Done!\n"
     ]
    }
   ],
   "source": [
    "for i in range(5):\n",
    "    print(i) \n",
    "print(\"Done!\")    "
   ]
  },
  {
   "cell_type": "code",
   "execution_count": null,
   "id": "54b9f18c",
   "metadata": {},
   "outputs": [],
   "source": []
  }
 ],
 "metadata": {
  "kernelspec": {
   "display_name": "Python 3 (ipykernel)",
   "language": "python",
   "name": "python3"
  },
  "language_info": {
   "codemirror_mode": {
    "name": "ipython",
    "version": 3
   },
   "file_extension": ".py",
   "mimetype": "text/x-python",
   "name": "python",
   "nbconvert_exporter": "python",
   "pygments_lexer": "ipython3",
   "version": "3.11.4"
  }
 },
 "nbformat": 4,
 "nbformat_minor": 5
}
