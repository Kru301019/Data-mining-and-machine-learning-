{
 "cells": [
  {
   "cell_type": "markdown",
   "metadata": {
    "collapsed": true,
    "id": "CEnr07PscJrI"
   },
   "source": [
    "<h3 style=\"color:#C0C0C0;text-align:center;font-size: smaller;\">Applied Machine Learning and Data Mining - U26538</h3>\n",
    "\n",
    "<br>\n",
    "<h1 style=\"color:#800080;text-align:center;\"> Week 3 - Practical Exercise</h1>\n",
    "<h2 style=\"color:#800080;text-align:center;\"> Working with data and Dataframe </h2>"
   ]
  },
  {
   "cell_type": "code",
   "execution_count": null,
   "metadata": {
    "executionInfo": {
     "elapsed": 238,
     "status": "ok",
     "timestamp": 1697124394866,
     "user": {
      "displayName": "Alaa Mohasseb",
      "userId": "00212188663031753983"
     },
     "user_tz": -60
    },
    "id": "0NqaA0WXc_8b"
   },
   "outputs": [],
   "source": []
  },
  {
   "cell_type": "markdown",
   "metadata": {
    "id": "9oMuoODxcJrL"
   },
   "source": [
    "Create a new Juypter notebook called <u>practexw3</u> and apply the following:\n",
    "<ol>\n",
    "<li>Import the required libraries.</li>\n",
    "<li>From sklearn import the Breast Cancer OR Boston Dataset. (load the data)</li>\n",
    "<li>Write a function to print the feature names.</li>\n",
    "<li>Write a function to read the dataset as a dataframe.</li>\n",
    "<li>View the dataset by printing the first 10 rows. The function should print the output as a dataframe.</li>\n",
    "<li>Print a description of the data.</li>\n",
    "<li>Print the dataset size.</li>\n",
    "<li>Print the data type.</li>\n",
    "<li>Print the shape of the data.</li>\n",
    "<li>Write a function to count the number of records in each category.</li>\n",
    "</ol>"
   ]
  },
  {
   "cell_type": "code",
   "execution_count": null,
   "metadata": {
    "collapsed": true,
    "id": "-lw2kBWYcJrM"
   },
   "outputs": [],
   "source": []
  }
 ],
 "metadata": {
  "colab": {
   "provenance": []
  },
  "kernelspec": {
   "display_name": "Python 3 (ipykernel)",
   "language": "python",
   "name": "python3"
  },
  "language_info": {
   "codemirror_mode": {
    "name": "ipython",
    "version": 3
   },
   "file_extension": ".py",
   "mimetype": "text/x-python",
   "name": "python",
   "nbconvert_exporter": "python",
   "pygments_lexer": "ipython3",
   "version": "3.11.4"
  }
 },
 "nbformat": 4,
 "nbformat_minor": 1
}
