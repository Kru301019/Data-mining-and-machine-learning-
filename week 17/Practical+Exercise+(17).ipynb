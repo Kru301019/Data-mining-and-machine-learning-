{
 "cells": [
  {
   "cell_type": "markdown",
   "metadata": {},
   "source": [
    "<h3 style=\"color:#C0C0C0;text-align:center;font-size: smaller;\">Applied Machine Learning and Data Mining - U26538</h3>\n",
    "\n",
    "<br>\n",
    "<h1 style=\"color:#800080;text-align:center;\"> Practical Exercise (17)</h1>\n",
    "<h2 style=\"color:#800080;text-align:center;\">Hierarchical Clustering</h2>"
   ]
  },
  {
   "cell_type": "markdown",
   "metadata": {
    "collapsed": true
   },
   "source": [
    "<b>Question</b>\n",
    "<li>Apply Hierarchical clustering to the <u>Bank dataset</u> (download from moodle), you also need to:.</li>\n",
    "<li>Cluster the dataset based on two different objectives and attributes.</li>\n",
    "<li>Analyze and visualize the results.</li>\n",
    "<li>Evaluate the clustering results.</li>"
   ]
  },
  {
   "cell_type": "code",
   "execution_count": null,
   "metadata": {
    "collapsed": true
   },
   "outputs": [],
   "source": []
  }
 ],
 "metadata": {
  "kernelspec": {
   "display_name": "Python 2",
   "language": "python",
   "name": "python2"
  },
  "language_info": {
   "codemirror_mode": {
    "name": "ipython",
    "version": 2
   },
   "file_extension": ".py",
   "mimetype": "text/x-python",
   "name": "python",
   "nbconvert_exporter": "python",
   "pygments_lexer": "ipython2",
   "version": "2.7.13"
  }
 },
 "nbformat": 4,
 "nbformat_minor": 2
}
